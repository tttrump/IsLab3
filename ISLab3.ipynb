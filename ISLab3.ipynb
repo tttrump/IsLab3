{
 "cells": [
  {
   "cell_type": "code",
   "execution_count": null,
   "id": "c38b11c9",
   "metadata": {},
   "outputs": [],
   "source": [
    "import tensorflow as tf\n",
    "from tensorflow.keras.models import Sequential, load_model\n",
    "from tensorflow.keras.layers import Dense, Flatten\n",
    "from numpy import array\n",
    "from random import seed, randint"
   ]
  },
  {
   "cell_type": "markdown",
   "id": "2140ffc5",
   "metadata": {},
   "source": [
    "## Функция генерации данных"
   ]
  },
  {
   "cell_type": "code",
   "execution_count": null,
   "id": "b44f84b6",
   "metadata": {},
   "outputs": [],
   "source": [
    "def create_data(count, high):\n",
    "\n",
    "    data = list()\n",
    "    sums = list()\n",
    "\n",
    "    for n in range(count):\n",
    "        # генерация пары чисел для сложения\n",
    "        data.append([randint(0, high), randint(0, high)])\n",
    "        # подсчет сумм этих пар чисел\n",
    "        sums.append(sum(data[n]))\n",
    "\n",
    "    data = array(data)\n",
    "    sums = array(sums)\n",
    "    return data, sums"
   ]
  },
  {
   "cell_type": "markdown",
   "id": "61c7ecd4",
   "metadata": {},
   "source": [
    "## Функция настройки модели"
   ]
  },
  {
   "cell_type": "code",
   "execution_count": null,
   "id": "dd71bd8d",
   "metadata": {},
   "outputs": [],
   "source": [
    "def setup(model):\n",
    "    model.add(Flatten(input_dim=2)) # выравнивание входного массива в вектор\n",
    "    # добавление двух слоев с 20 узлами в каждом\n",
    "    # relu - функция активации (выпрямленная линейная единица)\n",
    "    model.add(Dense(20, activation='relu'))\n",
    "    model.add(Dense(20, activation='relu'))\n",
    "    # модель выдает единственное выходное значение суммы (регрессионная модель)\n",
    "    model.add(Dense(1))\n",
    "    model.compile(optimizer='adam', loss='mse', metrics='mae')"
   ]
  },
  {
   "cell_type": "markdown",
   "id": "bcf400b5",
   "metadata": {},
   "source": [
    "## Функция обучения модели\n",
    "При каждом повторении создаются новые данные, которые подаются в сеть по 10 раз"
   ]
  },
  {
   "cell_type": "code",
   "execution_count": null,
   "id": "1efb9c58",
   "metadata": {},
   "outputs": [],
   "source": [
    "def train(model):\n",
    "    for i in range(15): # количество повторений\n",
    "        X, y = create_data(pairs, maxValue)\n",
    "        model.fit(X, y, epochs=10, batch_size=10, shuffle=True)"
   ]
  },
  {
   "cell_type": "markdown",
   "id": "86ab1eb0",
   "metadata": {},
   "source": [
    "## Функция сохранения модели\n",
    "Позволяет загружать уже обученную модель"
   ]
  },
  {
   "cell_type": "code",
   "execution_count": null,
   "id": "7b8ece5b",
   "metadata": {},
   "outputs": [],
   "source": [
    "def save_model(model, filename):\n",
    "    model.save(filename)"
   ]
  },
  {
   "cell_type": "markdown",
   "id": "b0eada60",
   "metadata": {},
   "source": [
    "## Основная часть программы"
   ]
  },
  {
   "cell_type": "code",
   "execution_count": null,
   "id": "7d3e4576",
   "metadata": {},
   "outputs": [],
   "source": [
    "seed(100)\n",
    "pairs = 100 # количество пар чисел, генерируемых для обучения модели\n",
    "maxValue = 100 # максимально допустимое значение числа\n",
    "model = Sequential() # создание экземпляра модели"
   ]
  },
  {
   "cell_type": "markdown",
   "id": "ee84d80d",
   "metadata": {},
   "source": [
    "### Выбор, использовать существующую модель или создать новую"
   ]
  },
  {
   "cell_type": "code",
   "execution_count": null,
   "id": "c7282a8a",
   "metadata": {},
   "outputs": [],
   "source": [
    "use_existing_model = False"
   ]
  },
  {
   "cell_type": "code",
   "execution_count": null,
   "id": "5f6d7c2d",
   "metadata": {},
   "outputs": [],
   "source": [
    "if use_existing_model:\n",
    "    model = load_model('lab3model.h5')\n",
    "else:\n",
    "    setup(model)\n",
    "    train(model)\n",
    "    model.save('lab3model.h5')"
   ]
  },
  {
   "cell_type": "markdown",
   "id": "36df2773",
   "metadata": {},
   "source": [
    "### Проверка и оценивание обученной модели на тестовом наборе данных"
   ]
  },
  {
   "cell_type": "code",
   "execution_count": null,
   "id": "9975bcca",
   "metadata": {},
   "outputs": [],
   "source": [
    "# проверка обученной модели \n",
    "X, y = create_data(20, maxValue)\n",
    "testresult = model.predict(X, batch_size=1)\n",
    "\n",
    "# оценивание обученной модели\n",
    "test_loss, test_acc = model.evaluate(X, y)\n",
    "print('Test mean square error: ', test_loss) # вывод среднеквадратичной ошибки"
   ]
  },
  {
   "cell_type": "markdown",
   "id": "32e18b1e",
   "metadata": {},
   "source": [
    "### Вывод результата проверки модели"
   ]
  },
  {
   "cell_type": "code",
   "execution_count": null,
   "id": "813cc257",
   "metadata": {},
   "outputs": [],
   "source": [
    "# вывод результата проверки модели\n",
    "for i in range(len(testresult)):\n",
    "    print('{:4d} {:12.6f} {:12.6f} {:12.6f} {:4d}'.format(i+1, X[i][0], X[i][1], testresult[i][0], y[i]))"
   ]
  }
 ],
 "metadata": {
  "kernelspec": {
   "display_name": "Python 3 (ipykernel)",
   "language": "python",
   "name": "python3"
  },
  "language_info": {
   "codemirror_mode": {
    "name": "ipython",
    "version": 3
   },
   "file_extension": ".py",
   "mimetype": "text/x-python",
   "name": "python",
   "nbconvert_exporter": "python",
   "pygments_lexer": "ipython3",
   "version": "3.9.7"
  }
 },
 "nbformat": 4,
 "nbformat_minor": 5
}
